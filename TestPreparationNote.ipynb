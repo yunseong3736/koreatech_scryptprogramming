{
 "cells": [
  {
   "cell_type": "markdown",
   "metadata": {},
   "source": [
    "-----\n",
    "# 시험을 위해 외워두면 좋을 것들\n",
    "## 예상되는 것 적어봤음\n",
    "-----"
   ]
  },
  {
   "cell_type": "markdown",
   "metadata": {},
   "source": [
    "다시봐야 할 것들\n",
    "#### 8. 문자열 메소드와 포멧팅\n",
    "#### 10. 리스트의 활용\n",
    "---------"
   ]
  },
  {
   "cell_type": "code",
   "execution_count": 20,
   "metadata": {},
   "outputs": [
    {
     "name": "stdout",
     "output_type": "stream",
     "text": [
      "True\n"
     ]
    }
   ],
   "source": [
    "print(bool(10+10j and 1.5))"
   ]
  },
  {
   "cell_type": "code",
   "execution_count": 25,
   "metadata": {},
   "outputs": [
    {
     "name": "stdout",
     "output_type": "stream",
     "text": [
      "(2, 1)\n",
      "8\n"
     ]
    }
   ],
   "source": [
    "print(divmod(5,2)) # 목과 나머지 한 번에\n",
    "print(pow(2,3)) # 뭐의 몇 제곱할 때"
   ]
  },
  {
   "cell_type": "code",
   "execution_count": 26,
   "metadata": {},
   "outputs": [
    {
     "name": "stdout",
     "output_type": "stream",
     "text": [
      "3.141592653589793\n",
      "2.718281828459045\n",
      "1.4142135623730951\n"
     ]
    }
   ],
   "source": [
    "import math\n",
    "print(math.pi)\n",
    "print(math.e)\n",
    "print(math.sqrt(2))"
   ]
  },
  {
   "cell_type": "code",
   "execution_count": 28,
   "metadata": {},
   "outputs": [
    {
     "name": "stdout",
     "output_type": "stream",
     "text": [
      "D\n",
      "e\n",
      "o\n",
      "h\n"
     ]
    }
   ],
   "source": [
    "#Indexing\n",
    "s = \"Dennis Cho\"\n",
    "print(s[0])\n",
    "print(s[1])\n",
    "print(s[-1])\n",
    "print(s[-2])"
   ]
  },
  {
   "cell_type": "code",
   "execution_count": 34,
   "metadata": {},
   "outputs": [
    {
     "name": "stdout",
     "output_type": "stream",
     "text": [
      "'m\n",
      "I'm w\n",
      "I'm winner\n",
      "I'm\n",
      "Imwne\n",
      "renniw m'I\n"
     ]
    },
    {
     "ename": "TypeError",
     "evalue": "'str' object does not support item assignment",
     "output_type": "error",
     "traceback": [
      "\u001b[1;31m---------------------------------------------------------------------------\u001b[0m",
      "\u001b[1;31mTypeError\u001b[0m                                 Traceback (most recent call last)",
      "\u001b[1;32m<ipython-input-34-da0dc7542b2f>\u001b[0m in \u001b[0;36m<module>\u001b[1;34m\u001b[0m\n\u001b[0;32m      8\u001b[0m \u001b[0mprint\u001b[0m\u001b[1;33m(\u001b[0m\u001b[0ms\u001b[0m\u001b[1;33m[\u001b[0m\u001b[1;33m:\u001b[0m\u001b[1;33m:\u001b[0m\u001b[1;33m-\u001b[0m\u001b[1;36m1\u001b[0m\u001b[1;33m]\u001b[0m\u001b[1;33m)\u001b[0m\u001b[1;33m\u001b[0m\u001b[1;33m\u001b[0m\u001b[0m\n\u001b[0;32m      9\u001b[0m \u001b[1;33m\u001b[0m\u001b[0m\n\u001b[1;32m---> 10\u001b[1;33m \u001b[0ms\u001b[0m\u001b[1;33m[\u001b[0m\u001b[1;36m0\u001b[0m\u001b[1;33m]\u001b[0m \u001b[1;33m=\u001b[0m \u001b[1;34m'h'\u001b[0m\u001b[1;33m\u001b[0m\u001b[1;33m\u001b[0m\u001b[0m\n\u001b[0m",
      "\u001b[1;31mTypeError\u001b[0m: 'str' object does not support item assignment"
     ]
    }
   ],
   "source": [
    "#Slicing\n",
    "s = \"I'm winner\"\n",
    "print(s[1:3])\n",
    "print(s[0:5])\n",
    "print(s[0:])\n",
    "print(s[:3])\n",
    "print(s[0::2])\n",
    "print(s[::-1])\n",
    "\n",
    "s[0] = 'h' #String의 원소는 변경 불가능하다."
   ]
  },
  {
   "cell_type": "code",
   "execution_count": 3,
   "metadata": {},
   "outputs": [
    {
     "name": "stdout",
     "output_type": "stream",
     "text": [
      "False\n",
      "True\n",
      "True\n"
     ]
    }
   ],
   "source": [
    "print(all([True, True, False]))\n",
    "print(all([1, 2, 3]))\n",
    "print(all([]))"
   ]
  },
  {
   "cell_type": "code",
   "execution_count": 35,
   "metadata": {},
   "outputs": [
    {
     "name": "stdout",
     "output_type": "stream",
     "text": [
      "False\n",
      "True\n"
     ]
    }
   ],
   "source": [
    "c = [1,2,3]\n",
    "d = [1,2,3]\n",
    "print(c is d)\n",
    "print(c == d)"
   ]
  },
  {
   "cell_type": "code",
   "execution_count": 36,
   "metadata": {},
   "outputs": [
    {
     "name": "stdout",
     "output_type": "stream",
     "text": [
      "False\n",
      "True\n",
      "True\n",
      "True\n",
      "\n",
      "False\n",
      "True\n",
      "True\n"
     ]
    }
   ],
   "source": [
    "print(bool(0)) # 정수 0은 거짓 []\n",
    "print(bool(1))\n",
    "print(bool(100))\n",
    "print(bool(-100))\n",
    "print()\n",
    "print(bool(0.0)) # 실수 0.0은 거짓\n",
    "print(bool(0.1))\n",
    "print(bool(0.00000000000000000000000000000000000000000001))"
   ]
  },
  {
   "cell_type": "code",
   "execution_count": 37,
   "metadata": {},
   "outputs": [
    {
     "name": "stdout",
     "output_type": "stream",
     "text": [
      "True\n",
      "False\n",
      "\n",
      "False\n",
      "True\n",
      "\n",
      "False\n",
      "True\n",
      "\n",
      "False\n",
      "True\n",
      "\n",
      "False\n"
     ]
    }
   ],
   "source": [
    "print(bool('abc'))\n",
    "print(bool('')) # 빈 문자열은 거짓 \n",
    "print()\n",
    "print(bool([])) # 공 리스트는 거짓\n",
    "print(bool([1,2,3]))\n",
    "print()\n",
    "print(bool(())) # 공 튜플은 거짓\n",
    "print(bool((1,2,3)))\n",
    "print()\n",
    "print(bool({})) # 공 사전은 거짓\n",
    "print(bool({1:2}))\n",
    "print()\n",
    "print(bool(None)) # None 객체는 거짓"
   ]
  },
  {
   "cell_type": "code",
   "execution_count": 38,
   "metadata": {},
   "outputs": [
    {
     "name": "stdout",
     "output_type": "stream",
     "text": [
      "2\n",
      "0\n",
      "\n",
      "2\n",
      "1\n",
      "\n",
      "1\n",
      "()\n",
      "[]\n"
     ]
    }
   ],
   "source": [
    "print(1 and 2)\n",
    "print(1 and 0)\n",
    "print()\n",
    "\n",
    "print(0 or 2)\n",
    "print(1 or 0)\n",
    "print()\n",
    "\n",
    "print([] or 1)  # [] 거짓\n",
    "print([] or ()) # [], () 거짓\n",
    "print([] and 1) # [] 거짓이므로 1은 참조할 필요 없음"
   ]
  },
  {
   "cell_type": "code",
   "execution_count": 39,
   "metadata": {},
   "outputs": [
    {
     "name": "stdout",
     "output_type": "stream",
     "text": [
      "[[]]\n",
      "[{}]\n",
      "1\n"
     ]
    }
   ],
   "source": [
    "print([[]] or 1) # [[]] 참으로 간주\n",
    "print([{}] or 1) # [{}] 참으로 간주\n",
    "print('' or 1)   # 빈 문자열('')은 거짓"
   ]
  },
  {
   "cell_type": "code",
   "execution_count": 5,
   "metadata": {
    "scrolled": true
   },
   "outputs": [
    {
     "name": "stdout",
     "output_type": "stream",
     "text": [
      "False\n",
      "False\n",
      "False\n"
     ]
    }
   ],
   "source": [
    "print(not(True))\n",
    "print(not(1 and 2))\n",
    "print(not('' or 1))"
   ]
  },
  {
   "cell_type": "code",
   "execution_count": 8,
   "metadata": {},
   "outputs": [
    {
     "name": "stdout",
     "output_type": "stream",
     "text": [
      "spam, cheese, and egg\n"
     ]
    }
   ],
   "source": [
    "s = 'spam and egg'\n",
    "s = s[:4] + ', cheese, ' + s[5:]\n",
    "print(s)\n",
    "# 문자열은 이와 같이 변경해야함"
   ]
  },
  {
   "cell_type": "code",
   "execution_count": 9,
   "metadata": {},
   "outputs": [
    {
     "name": "stdout",
     "output_type": "stream",
     "text": [
      "True\n",
      "True\n",
      "True\n",
      "True\n",
      "True\n",
      "True\n",
      "True\n"
     ]
    }
   ],
   "source": [
    "print('1234'.isdigit()) # 문자열 내의 Character들이 모두 숫자인가?\n",
    "print('abcd'.isalpha()) # 문자열 내의 Character들이 모두 영문자인가?\n",
    "print('1abc234'.isalnum()) # 문자열 내의 Character들이 모두 영문자 또는 숫자인가? \n",
    "print('abc'.islower()) # 문자열 내의 Character들이 모두 소문자인가?\n",
    "print('ABC'.isupper()) # 문자열 내의 Character들이 모두 대문자인가?\n",
    "print('\\t\\r\\n'.isspace()) # 문자열 내의 Character들이 모두 공백 문자인가?\n",
    "print('This Is A Title'.istitle()) # 문자열이 Title 형식 (각 단어의 첫글자가 대문자)인가?"
   ]
  },
  {
   "cell_type": "markdown",
   "metadata": {},
   "source": [
    "------\n",
    " 리스트 내포 List Comprehension\n",
    "_______"
   ]
  },
  {
   "cell_type": "code",
   "execution_count": 2,
   "metadata": {},
   "outputs": [],
   "source": [
    "L = [ k * k for k in range(10)]"
   ]
  },
  {
   "cell_type": "code",
   "execution_count": 3,
   "metadata": {},
   "outputs": [
    {
     "name": "stdout",
     "output_type": "stream",
     "text": [
      "[0, 1, 4, 9, 16, 25, 36, 49, 64, 81]\n"
     ]
    }
   ],
   "source": [
    "print(L)"
   ]
  },
  {
   "cell_type": "code",
   "execution_count": 4,
   "metadata": {},
   "outputs": [],
   "source": [
    "L = [[[c*w*h for w in range(1,6)] for h in range(1,5)] for c in range(1,4)]"
   ]
  },
  {
   "cell_type": "code",
   "execution_count": 6,
   "metadata": {},
   "outputs": [
    {
     "name": "stdout",
     "output_type": "stream",
     "text": [
      "[[[ 1  2  3  4  5]\n",
      "  [ 2  4  6  8 10]\n",
      "  [ 3  6  9 12 15]\n",
      "  [ 4  8 12 16 20]]\n",
      "\n",
      " [[ 2  4  6  8 10]\n",
      "  [ 4  8 12 16 20]\n",
      "  [ 6 12 18 24 30]\n",
      "  [ 8 16 24 32 40]]\n",
      "\n",
      " [[ 3  6  9 12 15]\n",
      "  [ 6 12 18 24 30]\n",
      "  [ 9 18 27 36 45]\n",
      "  [12 24 36 48 60]]]\n"
     ]
    }
   ],
   "source": [
    "import numpy\n",
    "print(numpy.array(L))"
   ]
  },
  {
   "cell_type": "markdown",
   "metadata": {},
   "source": [
    "--------------"
   ]
  },
  {
   "cell_type": "markdown",
   "metadata": {},
   "source": [
    "--------------\n",
    "Packing and Unpacking\n",
    "____________"
   ]
  },
  {
   "cell_type": "code",
   "execution_count": 8,
   "metadata": {},
   "outputs": [
    {
     "name": "stdout",
     "output_type": "stream",
     "text": [
      "(1, 2, 3)\n",
      "<class 'tuple'>\n"
     ]
    }
   ],
   "source": [
    "t = 1, 2, 3\n",
    "print(t)\n",
    "print(type(t))"
   ]
  },
  {
   "cell_type": "code",
   "execution_count": 9,
   "metadata": {},
   "outputs": [
    {
     "name": "stdout",
     "output_type": "stream",
     "text": [
      "1 2 3\n",
      "<class 'int'> <class 'int'> <class 'int'>\n"
     ]
    }
   ],
   "source": [
    "x, y, z = t\n",
    "print(x, y, z)\n",
    "print(type(x), type(y), type(z))"
   ]
  },
  {
   "cell_type": "markdown",
   "metadata": {},
   "source": [
    "* 리스트로도 비슷한 작업이 가능하지만, 단순 패킹/언패킹 작업만을 목적으로 한다면 튜플 사용 추천"
   ]
  },
  {
   "cell_type": "code",
   "execution_count": 11,
   "metadata": {},
   "outputs": [
    {
     "name": "stdout",
     "output_type": "stream",
     "text": [
      "foo\n",
      "bar\n",
      "4\n",
      "5\n",
      "\n",
      "foo\n",
      "bar\n",
      "4\n",
      "5\n"
     ]
    }
   ],
   "source": [
    "a = ['foo', 'bar', 4, 5]\n",
    "[x, y, z, w] = a\n",
    "print(x)\n",
    "print(y)\n",
    "print(z)\n",
    "print(w)\n",
    "print()\n",
    "\n",
    "x, y, z, w = a\n",
    "print(x)\n",
    "print(y)\n",
    "print(z)\n",
    "print(w)"
   ]
  },
  {
   "cell_type": "markdown",
   "metadata": {},
   "source": [
    "* E-learning에서 언급하지 않았던 집합 만드는 방법 --> 꼭 기억하세요~"
   ]
  },
  {
   "cell_type": "code",
   "execution_count": 15,
   "metadata": {},
   "outputs": [
    {
     "name": "stdout",
     "output_type": "stream",
     "text": [
      "<class 'set'>\n",
      "{1, 2, 3, 4, 5}\n"
     ]
    }
   ],
   "source": [
    "e = {1, 2, 3, 4, 5}\n",
    "print(type(e))\n",
    "print(e)"
   ]
  },
  {
   "cell_type": "code",
   "execution_count": 16,
   "metadata": {},
   "outputs": [
    {
     "name": "stdout",
     "output_type": "stream",
     "text": [
      "set()\n",
      "{1, 2, 3, 4, 5}\n",
      "{1, 2, 3, 4}\n",
      "{'a', 'b', 'c'}\n",
      "{(1, 2, 3), (4, 5, 6)}\n"
     ]
    },
    {
     "ename": "TypeError",
     "evalue": "unhashable type: 'list'",
     "output_type": "error",
     "traceback": [
      "\u001b[1;31m---------------------------------------------------------------------------\u001b[0m",
      "\u001b[1;31mTypeError\u001b[0m                                 Traceback (most recent call last)",
      "\u001b[1;32m<ipython-input-16-3b8ead7ab089>\u001b[0m in \u001b[0;36m<module>\u001b[1;34m\u001b[0m\n\u001b[0;32m      4\u001b[0m \u001b[0mprint\u001b[0m\u001b[1;33m(\u001b[0m\u001b[0mset\u001b[0m\u001b[1;33m(\u001b[0m\u001b[1;34m'abc'\u001b[0m\u001b[1;33m)\u001b[0m\u001b[1;33m)\u001b[0m                  \u001b[1;31m# 문자열은 각 문자를 집합 원소로 지닌다.\u001b[0m\u001b[1;33m\u001b[0m\u001b[1;33m\u001b[0m\u001b[0m\n\u001b[0;32m      5\u001b[0m \u001b[0mprint\u001b[0m\u001b[1;33m(\u001b[0m\u001b[0mset\u001b[0m\u001b[1;33m(\u001b[0m\u001b[1;33m[\u001b[0m\u001b[1;33m(\u001b[0m\u001b[1;36m1\u001b[0m\u001b[1;33m,\u001b[0m \u001b[1;36m2\u001b[0m\u001b[1;33m,\u001b[0m \u001b[1;36m3\u001b[0m\u001b[1;33m)\u001b[0m\u001b[1;33m,\u001b[0m \u001b[1;33m(\u001b[0m\u001b[1;36m4\u001b[0m\u001b[1;33m,\u001b[0m \u001b[1;36m5\u001b[0m\u001b[1;33m,\u001b[0m \u001b[1;36m6\u001b[0m\u001b[1;33m)\u001b[0m\u001b[1;33m]\u001b[0m\u001b[1;33m)\u001b[0m\u001b[1;33m)\u001b[0m  \u001b[1;31m# 각 튜플은 원소로 가질 수 있음\u001b[0m\u001b[1;33m\u001b[0m\u001b[1;33m\u001b[0m\u001b[0m\n\u001b[1;32m----> 6\u001b[1;33m \u001b[0mprint\u001b[0m\u001b[1;33m(\u001b[0m\u001b[0mset\u001b[0m\u001b[1;33m(\u001b[0m\u001b[1;33m[\u001b[0m\u001b[1;33m[\u001b[0m\u001b[1;36m1\u001b[0m\u001b[1;33m,\u001b[0m \u001b[1;36m2\u001b[0m\u001b[1;33m,\u001b[0m \u001b[1;36m3\u001b[0m\u001b[1;33m]\u001b[0m\u001b[1;33m,\u001b[0m \u001b[1;33m[\u001b[0m\u001b[1;36m4\u001b[0m\u001b[1;33m,\u001b[0m \u001b[1;36m5\u001b[0m\u001b[1;33m,\u001b[0m \u001b[1;36m6\u001b[0m\u001b[1;33m]\u001b[0m\u001b[1;33m]\u001b[0m\u001b[1;33m)\u001b[0m\u001b[1;33m)\u001b[0m  \u001b[1;31m# 변경 가능 자료인 리스트는 집합의 원소가 될 수 없다.\u001b[0m\u001b[1;33m\u001b[0m\u001b[1;33m\u001b[0m\u001b[0m\n\u001b[0m",
      "\u001b[1;31mTypeError\u001b[0m: unhashable type: 'list'"
     ]
    }
   ],
   "source": [
    "print(set())                         # 빈 set 객체 생성\n",
    "print(set([1, 2, 3, 4, 5]))         # 초기 값은 일반적으로 시퀀스 자료형인 리스트를 넣어준다.\n",
    "print(set([1, 2, 3, 2, 3, 4]))      # 중복된 원소는 한 나만 저장됨\n",
    "print(set('abc'))                  # 문자열은 각 문자를 집합 원소로 지닌다.  \n",
    "print(set([(1, 2, 3), (4, 5, 6)]))  # 각 튜플은 원소로 가질 수 있음 \n",
    "print(set([[1, 2, 3], [4, 5, 6]]))  # 변경 가능 자료인 리스트는 집합의 원소가 될 수 없다."
   ]
  },
  {
   "cell_type": "code",
   "execution_count": 1,
   "metadata": {},
   "outputs": [
    {
     "ename": "TypeError",
     "evalue": "unhashable type: 'dict'",
     "output_type": "error",
     "traceback": [
      "\u001b[1;31m---------------------------------------------------------------------------\u001b[0m",
      "\u001b[1;31mTypeError\u001b[0m                                 Traceback (most recent call last)",
      "\u001b[1;32m<ipython-input-1-623d5a2af711>\u001b[0m in \u001b[0;36m<module>\u001b[1;34m\u001b[0m\n\u001b[1;32m----> 1\u001b[1;33m \u001b[0mprint\u001b[0m\u001b[1;33m(\u001b[0m\u001b[0mset\u001b[0m\u001b[1;33m(\u001b[0m\u001b[1;33m[\u001b[0m\u001b[1;33m{\u001b[0m\u001b[1;36m1\u001b[0m\u001b[1;33m:\u001b[0m\u001b[1;34m\"aaa\"\u001b[0m\u001b[1;33m}\u001b[0m\u001b[1;33m,\u001b[0m \u001b[1;33m{\u001b[0m\u001b[1;36m2\u001b[0m\u001b[1;33m:\u001b[0m\u001b[1;34m\"bbb\"\u001b[0m\u001b[1;33m}\u001b[0m\u001b[1;33m]\u001b[0m\u001b[1;33m)\u001b[0m\u001b[1;33m)\u001b[0m  \u001b[1;31m# 변경 가능 자료인 사전도 집합의 원소가 될 수 없다.\u001b[0m\u001b[1;33m\u001b[0m\u001b[1;33m\u001b[0m\u001b[0m\n\u001b[0m",
      "\u001b[1;31mTypeError\u001b[0m: unhashable type: 'dict'"
     ]
    }
   ],
   "source": [
    "print(set([{1:\"aaa\"}, {2:\"bbb\"}]))  # 변경 가능 자료인 사전도 집합의 원소가 될 수 없다."
   ]
  },
  {
   "cell_type": "code",
   "execution_count": 2,
   "metadata": {},
   "outputs": [
    {
     "name": "stdout",
     "output_type": "stream",
     "text": [
      "[('c', 1), ('a', 2), ('b', 3)]\n",
      "\n",
      "[('a', 2), ('b', 3), ('c', 1)]\n",
      "\n",
      "a 2\n",
      "b 3\n",
      "c 1\n"
     ]
    }
   ],
   "source": [
    "D = {'c':1, 'a':2, 'b':3}\n",
    "#items = D.items()\n",
    "items = list(D.items())\n",
    "print(items)\n",
    "print()\n",
    "\n",
    "items.sort()\n",
    "print(items)\n",
    "print()\n",
    "\n",
    "for k, v in items:\n",
    "    print(k, v)"
   ]
  },
  {
   "cell_type": "markdown",
   "metadata": {},
   "source": [
    "* 위 리스트에서 각 튜플 원소의 두번째 값을 기준으로 정렬을 해보시오 (각자 실습)"
   ]
  },
  {
   "cell_type": "code",
   "execution_count": 8,
   "metadata": {},
   "outputs": [
    {
     "name": "stdout",
     "output_type": "stream",
     "text": [
      "[('c', 1), ('a', 2), ('b', 3)]\n",
      "[('c', 1), ('a', 2), ('b', 3)]\n"
     ]
    }
   ],
   "source": [
    "def test(x) :\n",
    "    return x[1]\n",
    "items = list(D.items())\n",
    "items.sort(key = test)\n",
    "print(items)\n",
    "\n",
    "items = list(D.items())\n",
    "items.sort(key = lambda a : a[1])\n",
    "print(items)"
   ]
  },
  {
   "cell_type": "markdown",
   "metadata": {},
   "source": [
    "-------\n",
    "이게 될까? 싶은 것들\n",
    "-------"
   ]
  },
  {
   "cell_type": "code",
   "execution_count": 10,
   "metadata": {},
   "outputs": [],
   "source": [
    "def test(L):\n",
    "    s = [100,200]\n",
    "    L[1:3] = s\n",
    "    print(L)\n",
    "\n",
    "L = [1,2,3,4,5]"
   ]
  },
  {
   "cell_type": "code",
   "execution_count": 11,
   "metadata": {},
   "outputs": [
    {
     "name": "stdout",
     "output_type": "stream",
     "text": [
      "[1, 100, 200, 4, 5]\n",
      "[1, 100, 200, 4, 5]\n"
     ]
    }
   ],
   "source": [
    "test(L)\n",
    "print(L)"
   ]
  },
  {
   "cell_type": "code",
   "execution_count": 14,
   "metadata": {},
   "outputs": [
    {
     "name": "stdout",
     "output_type": "stream",
     "text": [
      "a b c\n"
     ]
    },
    {
     "ename": "TypeError",
     "evalue": "'a' is an invalid keyword argument for print()",
     "output_type": "error",
     "traceback": [
      "\u001b[1;31m---------------------------------------------------------------------------\u001b[0m",
      "\u001b[1;31mTypeError\u001b[0m                                 Traceback (most recent call last)",
      "\u001b[1;32m<ipython-input-14-ece102524cee>\u001b[0m in \u001b[0;36m<module>\u001b[1;34m\u001b[0m\n\u001b[0;32m      1\u001b[0m \u001b[0mdic\u001b[0m \u001b[1;33m=\u001b[0m \u001b[1;33m{\u001b[0m\u001b[1;34m'a'\u001b[0m\u001b[1;33m:\u001b[0m\u001b[1;36m1\u001b[0m\u001b[1;33m,\u001b[0m \u001b[1;34m'b'\u001b[0m\u001b[1;33m:\u001b[0m\u001b[1;36m2\u001b[0m\u001b[1;33m,\u001b[0m \u001b[1;34m'c'\u001b[0m\u001b[1;33m:\u001b[0m\u001b[1;36m3\u001b[0m\u001b[1;33m}\u001b[0m\u001b[1;33m\u001b[0m\u001b[1;33m\u001b[0m\u001b[0m\n\u001b[0;32m      2\u001b[0m \u001b[0mprint\u001b[0m\u001b[1;33m(\u001b[0m\u001b[1;33m*\u001b[0m\u001b[0mdic\u001b[0m\u001b[1;33m)\u001b[0m\u001b[1;33m\u001b[0m\u001b[1;33m\u001b[0m\u001b[0m\n\u001b[1;32m----> 3\u001b[1;33m \u001b[0mprint\u001b[0m\u001b[1;33m(\u001b[0m\u001b[1;33m**\u001b[0m\u001b[0mdic\u001b[0m\u001b[1;33m)\u001b[0m\u001b[1;33m\u001b[0m\u001b[1;33m\u001b[0m\u001b[0m\n\u001b[0m",
      "\u001b[1;31mTypeError\u001b[0m: 'a' is an invalid keyword argument for print()"
     ]
    }
   ],
   "source": [
    "dic = {'a':1, 'b':2, 'c':3}\n",
    "print(*dic)\n",
    "print(**dic)"
   ]
  },
  {
   "cell_type": "code",
   "execution_count": 5,
   "metadata": {},
   "outputs": [
    {
     "ename": "TypeError",
     "evalue": "'int' object is not iterable",
     "output_type": "error",
     "traceback": [
      "\u001b[1;31m---------------------------------------------------------------------------\u001b[0m",
      "\u001b[1;31mTypeError\u001b[0m                                 Traceback (most recent call last)",
      "\u001b[1;32m<ipython-input-5-a10e659975e8>\u001b[0m in \u001b[0;36m<module>\u001b[1;34m\u001b[0m\n\u001b[1;32m----> 1\u001b[1;33m \u001b[0mlist\u001b[0m\u001b[1;33m(\u001b[0m\u001b[1;33m(\u001b[0m\u001b[1;32mlambda\u001b[0m \u001b[0mx\u001b[0m \u001b[1;33m:\u001b[0m \u001b[0mx\u001b[0m\u001b[1;33m**\u001b[0m\u001b[1;36m2\u001b[0m\u001b[1;33m)\u001b[0m\u001b[1;33m(\u001b[0m\u001b[1;36m20\u001b[0m\u001b[1;33m)\u001b[0m\u001b[1;33m)\u001b[0m\u001b[1;33m\u001b[0m\u001b[1;33m\u001b[0m\u001b[0m\n\u001b[0m",
      "\u001b[1;31mTypeError\u001b[0m: 'int' object is not iterable"
     ]
    }
   ],
   "source": [
    "list((lambda x : x**2)(20))"
   ]
  },
  {
   "cell_type": "code",
   "execution_count": null,
   "metadata": {},
   "outputs": [],
   "source": []
  }
 ],
 "metadata": {
  "kernelspec": {
   "display_name": "Python 3",
   "language": "python",
   "name": "python3"
  },
  "language_info": {
   "codemirror_mode": {
    "name": "ipython",
    "version": 3
   },
   "file_extension": ".py",
   "mimetype": "text/x-python",
   "name": "python",
   "nbconvert_exporter": "python",
   "pygments_lexer": "ipython3",
   "version": "3.8.3"
  }
 },
 "nbformat": 4,
 "nbformat_minor": 4
}
