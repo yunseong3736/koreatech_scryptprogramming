{
 "cells": [
  {
   "cell_type": "markdown",
   "metadata": {},
   "source": [
    "-----\n",
    "# 시험을 위해 외워두면 좋을 것들\n",
    "## 예상되는 것 적어봤음\n",
    "-----"
   ]
  },
  {
   "cell_type": "code",
   "execution_count": 20,
   "metadata": {},
   "outputs": [
    {
     "name": "stdout",
     "output_type": "stream",
     "text": [
      "True\n"
     ]
    }
   ],
   "source": [
    "print(bool(10+10j and 1.5))"
   ]
  },
  {
   "cell_type": "code",
   "execution_count": 25,
   "metadata": {},
   "outputs": [
    {
     "name": "stdout",
     "output_type": "stream",
     "text": [
      "(2, 1)\n",
      "8\n"
     ]
    }
   ],
   "source": [
    "print(divmod(5,2)) # 목과 나머지 한 번에\n",
    "print(pow(2,3)) # 뭐의 몇 제곱할 때"
   ]
  },
  {
   "cell_type": "code",
   "execution_count": 26,
   "metadata": {},
   "outputs": [
    {
     "name": "stdout",
     "output_type": "stream",
     "text": [
      "3.141592653589793\n",
      "2.718281828459045\n",
      "1.4142135623730951\n"
     ]
    }
   ],
   "source": [
    "import math\n",
    "print(math.pi)\n",
    "print(math.e)\n",
    "print(math.sqrt(2))"
   ]
  },
  {
   "cell_type": "code",
   "execution_count": 28,
   "metadata": {},
   "outputs": [
    {
     "name": "stdout",
     "output_type": "stream",
     "text": [
      "D\n",
      "e\n",
      "o\n",
      "h\n"
     ]
    }
   ],
   "source": [
    "#Indexing\n",
    "s = \"Dennis Cho\"\n",
    "print(s[0])\n",
    "print(s[1])\n",
    "print(s[-1])\n",
    "print(s[-2])"
   ]
  },
  {
   "cell_type": "code",
   "execution_count": 34,
   "metadata": {},
   "outputs": [
    {
     "name": "stdout",
     "output_type": "stream",
     "text": [
      "'m\n",
      "I'm w\n",
      "I'm winner\n",
      "I'm\n",
      "Imwne\n",
      "renniw m'I\n"
     ]
    },
    {
     "ename": "TypeError",
     "evalue": "'str' object does not support item assignment",
     "output_type": "error",
     "traceback": [
      "\u001b[1;31m---------------------------------------------------------------------------\u001b[0m",
      "\u001b[1;31mTypeError\u001b[0m                                 Traceback (most recent call last)",
      "\u001b[1;32m<ipython-input-34-da0dc7542b2f>\u001b[0m in \u001b[0;36m<module>\u001b[1;34m\u001b[0m\n\u001b[0;32m      8\u001b[0m \u001b[0mprint\u001b[0m\u001b[1;33m(\u001b[0m\u001b[0ms\u001b[0m\u001b[1;33m[\u001b[0m\u001b[1;33m:\u001b[0m\u001b[1;33m:\u001b[0m\u001b[1;33m-\u001b[0m\u001b[1;36m1\u001b[0m\u001b[1;33m]\u001b[0m\u001b[1;33m)\u001b[0m\u001b[1;33m\u001b[0m\u001b[1;33m\u001b[0m\u001b[0m\n\u001b[0;32m      9\u001b[0m \u001b[1;33m\u001b[0m\u001b[0m\n\u001b[1;32m---> 10\u001b[1;33m \u001b[0ms\u001b[0m\u001b[1;33m[\u001b[0m\u001b[1;36m0\u001b[0m\u001b[1;33m]\u001b[0m \u001b[1;33m=\u001b[0m \u001b[1;34m'h'\u001b[0m\u001b[1;33m\u001b[0m\u001b[1;33m\u001b[0m\u001b[0m\n\u001b[0m",
      "\u001b[1;31mTypeError\u001b[0m: 'str' object does not support item assignment"
     ]
    }
   ],
   "source": [
    "#Slicing\n",
    "s = \"I'm winner\"\n",
    "print(s[1:3])\n",
    "print(s[0:5])\n",
    "print(s[0:])\n",
    "print(s[:3])\n",
    "print(s[0::2])\n",
    "print(s[::-1])\n",
    "\n",
    "s[0] = 'h' #String의 원소는 변경 불가능하다."
   ]
  },
  {
   "cell_type": "code",
   "execution_count": 33,
   "metadata": {},
   "outputs": [
    {
     "name": "stdout",
     "output_type": "stream",
     "text": [
      "False\n",
      "True\n"
     ]
    }
   ],
   "source": [
    "print(all([True, True, False]))\n",
    "print(all([1, 2, 3]))\n"
   ]
  },
  {
   "cell_type": "code",
   "execution_count": 35,
   "metadata": {},
   "outputs": [
    {
     "name": "stdout",
     "output_type": "stream",
     "text": [
      "False\n",
      "True\n"
     ]
    }
   ],
   "source": [
    "c = [1,2,3]\n",
    "d = [1,2,3]\n",
    "print(c is d)\n",
    "print(c == d)"
   ]
  },
  {
   "cell_type": "code",
   "execution_count": 36,
   "metadata": {},
   "outputs": [
    {
     "name": "stdout",
     "output_type": "stream",
     "text": [
      "False\n",
      "True\n",
      "True\n",
      "True\n",
      "\n",
      "False\n",
      "True\n",
      "True\n"
     ]
    }
   ],
   "source": [
    "print(bool(0)) # 정수 0은 거짓 []\n",
    "print(bool(1))\n",
    "print(bool(100))\n",
    "print(bool(-100))\n",
    "print()\n",
    "print(bool(0.0)) # 실수 0.0은 거짓\n",
    "print(bool(0.1))\n",
    "print(bool(0.00000000000000000000000000000000000000000001))"
   ]
  },
  {
   "cell_type": "code",
   "execution_count": 37,
   "metadata": {},
   "outputs": [
    {
     "name": "stdout",
     "output_type": "stream",
     "text": [
      "True\n",
      "False\n",
      "\n",
      "False\n",
      "True\n",
      "\n",
      "False\n",
      "True\n",
      "\n",
      "False\n",
      "True\n",
      "\n",
      "False\n"
     ]
    }
   ],
   "source": [
    "print(bool('abc'))\n",
    "print(bool('')) # 빈 문자열은 거짓 \n",
    "print()\n",
    "print(bool([])) # 공 리스트는 거짓\n",
    "print(bool([1,2,3]))\n",
    "print()\n",
    "print(bool(())) # 공 튜플은 거짓\n",
    "print(bool((1,2,3)))\n",
    "print()\n",
    "print(bool({})) # 공 사전은 거짓\n",
    "print(bool({1:2}))\n",
    "print()\n",
    "print(bool(None)) # None 객체는 거짓"
   ]
  },
  {
   "cell_type": "code",
   "execution_count": 38,
   "metadata": {},
   "outputs": [
    {
     "name": "stdout",
     "output_type": "stream",
     "text": [
      "2\n",
      "0\n",
      "\n",
      "2\n",
      "1\n",
      "\n",
      "1\n",
      "()\n",
      "[]\n"
     ]
    }
   ],
   "source": [
    "print(1 and 2)\n",
    "print(1 and 0)\n",
    "print()\n",
    "\n",
    "print(0 or 2)\n",
    "print(1 or 0)\n",
    "print()\n",
    "\n",
    "print([] or 1)  # [] 거짓\n",
    "print([] or ()) # [], () 거짓\n",
    "print([] and 1) # [] 거짓이므로 1은 참조할 필요 없음"
   ]
  },
  {
   "cell_type": "code",
   "execution_count": 39,
   "metadata": {},
   "outputs": [
    {
     "name": "stdout",
     "output_type": "stream",
     "text": [
      "[[]]\n",
      "[{}]\n",
      "1\n"
     ]
    }
   ],
   "source": [
    "print([[]] or 1) # [[]] 참으로 간주\n",
    "print([{}] or 1) # [{}] 참으로 간주\n",
    "print('' or 1)   # 빈 문자열('')은 거짓"
   ]
  },
  {
   "cell_type": "code",
   "execution_count": 40,
   "metadata": {},
   "outputs": [
    {
     "name": "stdout",
     "output_type": "stream",
     "text": [
      "False\n",
      "False\n",
      "False\n"
     ]
    }
   ],
   "source": [
    "print(not(True))\n",
    "print(not(1 and 2))\n",
    "print(not('' or 1))"
   ]
  },
  {
   "cell_type": "code",
   "execution_count": null,
   "metadata": {},
   "outputs": [],
   "source": []
  }
 ],
 "metadata": {
  "kernelspec": {
   "display_name": "Python 3",
   "language": "python",
   "name": "python3"
  },
  "language_info": {
   "codemirror_mode": {
    "name": "ipython",
    "version": 3
   },
   "file_extension": ".py",
   "mimetype": "text/x-python",
   "name": "python",
   "nbconvert_exporter": "python",
   "pygments_lexer": "ipython3",
   "version": "3.8.3"
  }
 },
 "nbformat": 4,
 "nbformat_minor": 4
}
