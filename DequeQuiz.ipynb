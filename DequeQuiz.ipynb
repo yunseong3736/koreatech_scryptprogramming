{
 "cells": [
  {
   "cell_type": "markdown",
   "metadata": {},
   "source": [
    "-----\n",
    "## 2017136122 조윤성\n",
    "-----"
   ]
  },
  {
   "cell_type": "code",
   "execution_count": 103,
   "metadata": {},
   "outputs": [],
   "source": [
    "class MyDeque() :\n",
    "    def __init__(self) :\n",
    "        self.md = []\n",
    "        \n",
    "    def __str__(self) :\n",
    "        return \"mydeque({})\".format(self.md)\n",
    "    \n",
    "    def __repr__(self) : \n",
    "        return \"mydeque({})\".format(self.md)\n",
    "    \n",
    "    def push_front(self,x):\n",
    "        self.md.insert(0,int(x))\n",
    "    \n",
    "    def push_back(self, x) :\n",
    "        self.md.append(int(x))\n",
    "    \n",
    "    def pop_front(self) :\n",
    "        try : \n",
    "            print(self.md.pop(0))\n",
    "        except IndexError :\n",
    "            print(-1)\n",
    "        \n",
    "    def pop_back(self) :\n",
    "        if self.size() == 0 : \n",
    "            print(-1)\n",
    "            return\n",
    "        print(self.md.pop())\n",
    "    \n",
    "    def size(self) :\n",
    "        return len(self.md)\n",
    "    \n",
    "    def empty(self) :\n",
    "        print(self.size() == 0)\n",
    "    \n",
    "    def front(self) :\n",
    "        if self.size() == 0 : \n",
    "            print(-1)\n",
    "            return\n",
    "        return self.md[0]\n",
    "    \n",
    "    def back(self) :\n",
    "        if self.size() == 0 : \n",
    "            print(-1)\n",
    "            return\n",
    "        return self.md[-1]\n",
    "    \n",
    "    def clear(self) :\n",
    "        self.md = []\n",
    "    \n",
    "    def func(self, msg) :\n",
    "        s = msg.split(' ')\n",
    "        if s[0] not in MyDeque.__dict__ :\n",
    "            print('Unknown def')\n",
    "            return\n",
    "        \n",
    "        if len(s) == 2 : MyDeque.__dict__[s[0]](self,s[-1])\n",
    "        else : MyDeque.__dict__[s[0]](self)"
   ]
  },
  {
   "cell_type": "code",
   "execution_count": 104,
   "metadata": {},
   "outputs": [
    {
     "name": "stdout",
     "output_type": "stream",
     "text": [
      "10\n",
      "5\n",
      "mydeque([1, 2, 3, 4])\n",
      "True\n",
      "mydeque([])\n"
     ]
    }
   ],
   "source": [
    "mydeque = MyDeque()\n",
    "\n",
    "mydeque.func(\"push_back 1\")\n",
    "mydeque.func(\"push_back 2\")\n",
    "mydeque.func(\"push_back 3\")\n",
    "mydeque.func(\"push_back 4\")\n",
    "mydeque.func(\"push_back 5\")\n",
    "\n",
    "mydeque.func(\"push_front 10\")\n",
    "\n",
    "mydeque.func(\"pop_front\")\n",
    "mydeque.func(\"pop_back\")\n",
    "\n",
    "mydeque.func(\"size\")\n",
    "mydeque.func(\"front\")\n",
    "mydeque.func(\"back\")\n",
    "\n",
    "print(mydeque)\n",
    "\n",
    "mydeque.func(\"clear\")\n",
    "mydeque.func(\"empty\")\n",
    "\n",
    "print(mydeque)"
   ]
  },
  {
   "cell_type": "code",
   "execution_count": 105,
   "metadata": {},
   "outputs": [],
   "source": [
    "mydeque = MyDeque()\n",
    "\n",
    "mydeque.func(\"push_back 1\")\n",
    "mydeque.func(\"push_back 2\")\n",
    "mydeque.func(\"push_back 3\")\n",
    "mydeque.func(\"push_back 4\")\n",
    "mydeque.func(\"push_back 5\")"
   ]
  },
  {
   "cell_type": "code",
   "execution_count": 106,
   "metadata": {},
   "outputs": [
    {
     "data": {
      "text/plain": [
       "mydeque([1, 2, 3, 4, 5])"
      ]
     },
     "execution_count": 106,
     "metadata": {},
     "output_type": "execute_result"
    }
   ],
   "source": [
    "mydeque"
   ]
  }
 ],
 "metadata": {
  "kernelspec": {
   "display_name": "Python 3",
   "language": "python",
   "name": "python3"
  },
  "language_info": {
   "codemirror_mode": {
    "name": "ipython",
    "version": 3
   },
   "file_extension": ".py",
   "mimetype": "text/x-python",
   "name": "python",
   "nbconvert_exporter": "python",
   "pygments_lexer": "ipython3",
   "version": "3.8.3"
  }
 },
 "nbformat": 4,
 "nbformat_minor": 4
}
