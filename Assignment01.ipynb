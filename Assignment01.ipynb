{
 "cells": [
  {
   "cell_type": "markdown",
   "metadata": {},
   "source": [
    "***\n",
    "### Q1\n",
    "***"
   ]
  },
  {
   "cell_type": "markdown",
   "metadata": {},
   "source": [
    "1000 ~ 9999 까지(1000과 9999도 계산에 포함)의 네 자리 숫자 가운데에 '10'을 포함하는 숫자의 갯수는?"
   ]
  },
  {
   "cell_type": "markdown",
   "metadata": {},
   "source": [
    "#### Answer1"
   ]
  },
  {
   "cell_type": "code",
   "execution_count": 16,
   "metadata": {},
   "outputs": [
    {
     "name": "stdout",
     "output_type": "stream",
     "text": [
      "279\n"
     ]
    }
   ],
   "source": [
    "cnt = 0\n",
    "for i in range(1000, 10000):\n",
    "    if '10' in str(i) :\n",
    "        cnt += 1\n",
    "        \n",
    "print(cnt)"
   ]
  },
  {
   "cell_type": "markdown",
   "metadata": {},
   "source": [
    "***\n",
    "### Q2\n",
    "***"
   ]
  },
  {
   "cell_type": "markdown",
   "metadata": {},
   "source": [
    "10 ~ 99999 까지(10과 99999도 계산에 포함)의 숫자 가운데에 20의 배수이며 '080'을 포함하는 숫자의 갯수는?"
   ]
  },
  {
   "cell_type": "markdown",
   "metadata": {},
   "source": [
    "#### Answer2"
   ]
  },
  {
   "cell_type": "code",
   "execution_count": 18,
   "metadata": {},
   "outputs": [
    {
     "name": "stdout",
     "output_type": "stream",
     "text": [
      "108\n"
     ]
    }
   ],
   "source": [
    "cnt = 0\n",
    "for i in range(10, 100000):\n",
    "    if (i % 20 == 0) and ('080' in str(i)) :\n",
    "        cnt += 1\n",
    "        \n",
    "print(cnt)"
   ]
  },
  {
   "cell_type": "markdown",
   "metadata": {},
   "source": [
    "***\n",
    "### Q3\n",
    "***"
   ]
  },
  {
   "cell_type": "markdown",
   "metadata": {},
   "source": [
    "d = {'Hospital':0, 'PostOffice':1, 'Phamacy':2, 'School':3, 'Home':4, 'Convenience':5, 'DepartmentStore':6, 'BeautySalon':7, 'Lotteria':8}는 사전 자료형이며, \n",
    "각 element의 key는 건물 이름을 의미하고 value는 아래 'map'에서 건물의 위치를 의미한다.\n",
    "'철수'는 매일 집에서 09:00에 나와서 정확히 30분마다 인접한 건물로 이동한다고 했을 때, 18:00에 'Hospital'에 있을 확률 p(0.0 <= p <= 1.0)는 얼마인가?  \n",
    "'철수'는 30분마다 꼭 인접한 건물로 이동해야하며(같은 건물에 30분을 초과하여 체류할 수 없음) 대각선에 위치한 건물로는 이동할 수 없다고 가정한다."
   ]
  },
  {
   "cell_type": "markdown",
   "metadata": {},
   "source": [
    "| |map| |\n",
    "|:--:|:--:|:--:|\n",
    "|0 |1 |2 |\n",
    "|3 |4 |5 |\n",
    "|6 |7 |8 |"
   ]
  },
  {
   "cell_type": "code",
   "execution_count": 19,
   "metadata": {},
   "outputs": [
    {
     "name": "stdout",
     "output_type": "stream",
     "text": [
      "{'Hospital': 0, 'PostOffice': 1, 'Phamacy': 2, 'School': 3, 'Home': 4, 'Convenience': 5, 'DepartmentStore': 6, 'BeautySalon': 7, 'Lotteria': 8}\n"
     ]
    }
   ],
   "source": [
    "d = {'Hospital':0, 'PostOffice':1, 'Phamacy':2, 'School':3, 'Home':4, 'Convenience':5, 'DepartmentStore':6, 'BeautySalon':7, 'Lotteria':8}\n",
    "print(d)"
   ]
  },
  {
   "cell_type": "markdown",
   "metadata": {},
   "source": [
    "#### Answer3"
   ]
  },
  {
   "cell_type": "code",
   "execution_count": 1,
   "metadata": {},
   "outputs": [
    {
     "name": "stdout",
     "output_type": "stream",
     "text": [
      "전체 경우의 수 : 201326592\n",
      "Hospital에 있을 경우의 수 : 33554432\n",
      "Hospital에 있을 확률 : 0.17%\n"
     ]
    }
   ],
   "source": [
    "import copy\n",
    "\n",
    "def check(obj, j, k):\n",
    "    way = 0\n",
    "    if j-1 >= 0 :\n",
    "        way += obj[j-1][k]\n",
    "    if j+1 <= 2 :\n",
    "        way += obj[j+1][k]\n",
    "    if k-1 >= 0 :\n",
    "        way += obj[j][k-1]\n",
    "    if k+1 <= 2 :\n",
    "        way += obj[j][k+1]\n",
    "    return way\n",
    "    \n",
    "\n",
    "after = [[0,0,0],[0,1,0],[0,0,0]]\n",
    "\n",
    "for i in range(1,19):\n",
    "    before = copy.deepcopy(after)\n",
    "    \n",
    "    for j in range(3):\n",
    "        for k in range(3):\n",
    "            after[j][k] = check(before,j,k)\n",
    "\n",
    "case = sum(after[0]) + sum(after[1]) + sum(after[2])\n",
    "\n",
    "print(\"전체 경우의 수 :\",case)\n",
    "print(\"Hospital에 있을 경우의 수 :\",after[0][0])\n",
    "print('Hospital에 있을 확률 : {:.2f}%'.format(after[0][0] / case))"
   ]
  },
  {
   "cell_type": "markdown",
   "metadata": {},
   "source": [
    "                                                        2020.09.10    Q1 ~ Q3 by Jubong Kim"
   ]
  }
 ],
 "metadata": {
  "kernelspec": {
   "display_name": "Python 3",
   "language": "python",
   "name": "python3"
  },
  "language_info": {
   "codemirror_mode": {
    "name": "ipython",
    "version": 3
   },
   "file_extension": ".py",
   "mimetype": "text/x-python",
   "name": "python",
   "nbconvert_exporter": "python",
   "pygments_lexer": "ipython3",
   "version": "3.8.5"
  }
 },
 "nbformat": 4,
 "nbformat_minor": 2
}
