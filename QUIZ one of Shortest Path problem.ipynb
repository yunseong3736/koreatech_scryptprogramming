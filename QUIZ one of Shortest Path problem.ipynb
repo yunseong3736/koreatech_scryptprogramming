{
 "cells": [
  {
   "cell_type": "code",
   "execution_count": 32,
   "metadata": {},
   "outputs": [],
   "source": [
    "import time\n",
    "import heapq"
   ]
  },
  {
   "cell_type": "code",
   "execution_count": 46,
   "metadata": {},
   "outputs": [
    {
     "name": "stdout",
     "output_type": "stream",
     "text": [
      "5 6\n"
     ]
    }
   ],
   "source": [
    "inputs = list(map(int, input().split(' ')))\n",
    "assert len(inputs) == 2\n",
    "# V = 정점(Vertex), E = 간선(Edge)\n",
    "V, E = inputs\n",
    "\n",
    "# 모든 정점으로부터 모든 정점까지의 가중치를 담은 2차행렬\n",
    "distance_map = [[float('inf') if i != j else 0 for i in range(V)] for j in range(V)]"
   ]
  },
  {
   "cell_type": "code",
   "execution_count": 47,
   "metadata": {},
   "outputs": [
    {
     "name": "stdout",
     "output_type": "stream",
     "text": [
      "5 1 1\n",
      "1 2 2\n",
      "1 3 3\n",
      "2 3 4\n",
      "2 4 5\n",
      "3 4 6\n"
     ]
    }
   ],
   "source": [
    "for i in range(E):\n",
    "    inputs = list(map(int, input().split(' ')))\n",
    "    assert len(inputs) == 3\n",
    "    u, v, w = inputs\n",
    "    distance_map[u-1][v-1] = w"
   ]
  },
  {
   "cell_type": "code",
   "execution_count": 48,
   "metadata": {},
   "outputs": [
    {
     "name": "stdout",
     "output_type": "stream",
     "text": [
      "1 -> 1 : 0\n",
      "1 -> 2 : 2\n",
      "1 -> 3 : 3\n",
      "1 -> 4 : 7\n",
      "1 -> 5 : inf\n",
      "수행 시간: 0.000000초\n"
     ]
    }
   ],
   "source": [
    "way = [float('inf') for x in range(V)]\n",
    "way[0] = 0\n",
    "where = []\n",
    "heapq.heappush(where, [0, 0])\n",
    "\n",
    "start = time.time()\n",
    "while where :\n",
    "    c, v = heapq.heappop(where)\n",
    "    \n",
    "    for x in range(V) :\n",
    "        if way[x] > c + distance_map[v][x] :\n",
    "            way[x] = c + distance_map[v][x]\n",
    "            heapq.heappush(where, [way[x], x])\n",
    "\n",
    "end = time.time()            \n",
    "for x in range(V) :\n",
    "    print(\"1 -> {} : {}\".format(x+1,way[x]))\n",
    "print(\"수행 시간: {0:3.6f}초\".format(end - start))"
   ]
  },
  {
   "cell_type": "code",
   "execution_count": null,
   "metadata": {},
   "outputs": [],
   "source": []
  }
 ],
 "metadata": {
  "kernelspec": {
   "display_name": "Python 3",
   "language": "python",
   "name": "python3"
  },
  "language_info": {
   "codemirror_mode": {
    "name": "ipython",
    "version": 3
   },
   "file_extension": ".py",
   "mimetype": "text/x-python",
   "name": "python",
   "nbconvert_exporter": "python",
   "pygments_lexer": "ipython3",
   "version": "3.8.3"
  }
 },
 "nbformat": 4,
 "nbformat_minor": 4
}
