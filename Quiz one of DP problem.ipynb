{
 "cells": [
  {
   "cell_type": "markdown",
   "metadata": {},
   "source": [
    "2017136122 조윤성"
   ]
  },
  {
   "cell_type": "code",
   "execution_count": 116,
   "metadata": {},
   "outputs": [
    {
     "name": "stdout",
     "output_type": "stream",
     "text": [
      "5\n",
      "7\n",
      "3 8\n",
      "8 1 0\n",
      "2 7 4 4\n",
      "4 5 2 6 5\n"
     ]
    }
   ],
   "source": [
    "int_triangle = []\n",
    "n = int(input())\n",
    "for i in range(n):\n",
    "    input_ = input()\n",
    "    line = list(map(int, input_.split(' ')))\n",
    "    assert len(line) == i + 1\n",
    "    int_triangle.append(line)\n",
    "    "
   ]
  },
  {
   "cell_type": "code",
   "execution_count": 118,
   "metadata": {},
   "outputs": [
    {
     "name": "stdout",
     "output_type": "stream",
     "text": [
      "Route : [7, 3, 8, 7, 5]\n",
      "Max :  30\n",
      "Performance Time : 0.000000s\n"
     ]
    }
   ],
   "source": [
    "import copy\n",
    "import time\n",
    "\n",
    "s = time.time()\n",
    "triangle = copy.deepcopy(int_triangle)\n",
    "route = [ [ [] for y in range(len(int_triangle[x])) ] for x in range(n) ]\n",
    "route[0][0] = [int_triangle[0][0]]\n",
    "\n",
    "for i in range(n-1) :\n",
    "    for j in range(len(int_triangle[i])) :\n",
    "        if triangle[i][j] + int_triangle[i+1][j] > triangle[i+1][j] :\n",
    "            triangle[i+1][j] = triangle[i][j] + int_triangle[i+1][j]\n",
    "            route[i+1][j] = copy.deepcopy(route[i][j])\n",
    "            route[i+1][j].append(int_triangle[i+1][j])\n",
    "        if triangle[i][j] + int_triangle[i+1][j+1] > triangle[i+1][j+1] :\n",
    "            triangle[i+1][j+1] = triangle[i][j] + int_triangle[i+1][j+1]\n",
    "            route[i+1][j+1] = copy.deepcopy(route[i][j])\n",
    "            route[i+1][j+1].append(int_triangle[i+1][j+1])\n",
    "\n",
    "result = max(triangle[n-1])\n",
    "e = time.time()\n",
    "\n",
    "print(\"Route :\", route[n-1][triangle[n-1].index(result)])\n",
    "print(\"Max : \", result)\n",
    "print(\"Performance Time : {0:3.6f}s\".format(e-s))"
   ]
  },
  {
   "cell_type": "code",
   "execution_count": null,
   "metadata": {},
   "outputs": [],
   "source": []
  }
 ],
 "metadata": {
  "kernelspec": {
   "display_name": "Python 3",
   "language": "python",
   "name": "python3"
  },
  "language_info": {
   "codemirror_mode": {
    "name": "ipython",
    "version": 3
   },
   "file_extension": ".py",
   "mimetype": "text/x-python",
   "name": "python",
   "nbconvert_exporter": "python",
   "pygments_lexer": "ipython3",
   "version": "3.8.3"
  }
 },
 "nbformat": 4,
 "nbformat_minor": 4
}
