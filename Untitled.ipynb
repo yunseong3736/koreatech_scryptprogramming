{
 "cells": [
  {
   "cell_type": "code",
   "execution_count": 6,
   "metadata": {},
   "outputs": [
    {
     "name": "stdout",
     "output_type": "stream",
     "text": [
      "[38, 50, 62, 63, 68, 69, 72, 73, 78, 78, 80, 81, 82, 82, 83, 83, 84, 84, 87, 88, 88, 91, 91, 91, 91, 93, 93, 95, 96, 97]\n",
      "30\n",
      "2411\n",
      "80.36666666666666\n"
     ]
    }
   ],
   "source": [
    "l = [83,91,88,82,81,84,62,93,50,63,96,68,73,80,97,95,91,38,82,72,88,83,78,93,69,78,91,87,84,91]\n",
    "l.sort()\n",
    "print(l)\n",
    "\n",
    "s = 0\n",
    "for i in l :\n",
    "    s += int(i)\n",
    "print(len(l))\n",
    "print(s)\n",
    "print(s/30)"
   ]
  },
  {
   "cell_type": "code",
   "execution_count": null,
   "metadata": {},
   "outputs": [],
   "source": []
  }
 ],
 "metadata": {
  "kernelspec": {
   "display_name": "Python 3",
   "language": "python",
   "name": "python3"
  },
  "language_info": {
   "codemirror_mode": {
    "name": "ipython",
    "version": 3
   },
   "file_extension": ".py",
   "mimetype": "text/x-python",
   "name": "python",
   "nbconvert_exporter": "python",
   "pygments_lexer": "ipython3",
   "version": "3.8.3"
  }
 },
 "nbformat": 4,
 "nbformat_minor": 4
}
